{
  "nbformat": 4,
  "nbformat_minor": 0,
  "metadata": {
    "colab": {
      "provenance": [],
      "include_colab_link": true
    },
    "kernelspec": {
      "name": "python3",
      "display_name": "Python 3"
    },
    "language_info": {
      "name": "python"
    }
  },
  "cells": [
    {
      "cell_type": "markdown",
      "metadata": {
        "id": "view-in-github",
        "colab_type": "text"
      },
      "source": [
        "<a href=\"https://colab.research.google.com/github/BA7164bb/Crop-Classification/blob/main/irrigated_rainfed_wheat_clean.ipynb\" target=\"_parent\"><img src=\"https://colab.research.google.com/assets/colab-badge.svg\" alt=\"Open In Colab\"/></a>"
      ]
    },
    {
      "cell_type": "code",
      "source": [
        "from google.colab import drive\n",
        "drive.mount('/content/drive')"
      ],
      "metadata": {
        "colab": {
          "base_uri": "https://localhost:8080/"
        },
        "id": "skM1CmVpqgkw",
        "outputId": "175c2e7e-1f62-48e2-df03-911e5e584c76"
      },
      "execution_count": null,
      "outputs": [
        {
          "output_type": "stream",
          "name": "stdout",
          "text": [
            "Mounted at /content/drive\n"
          ]
        }
      ]
    },
    {
      "cell_type": "code",
      "source": [
        "!pip install -U geemap"
      ],
      "metadata": {
        "colab": {
          "base_uri": "https://localhost:8080/"
        },
        "id": "FF5W8VfbqjVw",
        "outputId": "afcf1228-49b1-40e1-8547-b3287773fa2e"
      },
      "execution_count": null,
      "outputs": [
        {
          "output_type": "stream",
          "name": "stdout",
          "text": [
            "Requirement already satisfied: geemap in /usr/local/lib/python3.11/dist-packages (0.35.3)\n",
            "Collecting geemap\n",
            "  Downloading geemap-0.36.0-py3-none-any.whl.metadata (14 kB)\n",
            "Collecting anywidget (from geemap)\n",
            "  Downloading anywidget-0.9.18-py3-none-any.whl.metadata (8.9 kB)\n",
            "Requirement already satisfied: bqplot in /usr/local/lib/python3.11/dist-packages (from geemap) (0.12.45)\n",
            "Requirement already satisfied: colour in /usr/local/lib/python3.11/dist-packages (from geemap) (0.1.5)\n",
            "Requirement already satisfied: earthengine-api>=1.0.0 in /usr/local/lib/python3.11/dist-packages (from geemap) (1.5.24)\n",
            "Requirement already satisfied: eerepr>=0.1.0 in /usr/local/lib/python3.11/dist-packages (from geemap) (0.1.2)\n",
            "Requirement already satisfied: folium>=0.17.0 in /usr/local/lib/python3.11/dist-packages (from geemap) (0.20.0)\n",
            "Requirement already satisfied: geocoder in /usr/local/lib/python3.11/dist-packages (from geemap) (1.38.1)\n",
            "Requirement already satisfied: ipyevents in /usr/local/lib/python3.11/dist-packages (from geemap) (2.0.2)\n",
            "Requirement already satisfied: ipyfilechooser>=0.6.0 in /usr/local/lib/python3.11/dist-packages (from geemap) (0.6.0)\n",
            "Requirement already satisfied: ipyleaflet>=0.19.2 in /usr/local/lib/python3.11/dist-packages (from geemap) (0.20.0)\n",
            "Requirement already satisfied: ipytree in /usr/local/lib/python3.11/dist-packages (from geemap) (0.2.2)\n",
            "Requirement already satisfied: matplotlib in /usr/local/lib/python3.11/dist-packages (from geemap) (3.10.0)\n",
            "Requirement already satisfied: numpy in /usr/local/lib/python3.11/dist-packages (from geemap) (2.0.2)\n",
            "Requirement already satisfied: pandas in /usr/local/lib/python3.11/dist-packages (from geemap) (2.2.2)\n",
            "Requirement already satisfied: plotly in /usr/local/lib/python3.11/dist-packages (from geemap) (5.24.1)\n",
            "Requirement already satisfied: pyperclip in /usr/local/lib/python3.11/dist-packages (from geemap) (1.9.0)\n",
            "Requirement already satisfied: pyshp>=2.3.1 in /usr/local/lib/python3.11/dist-packages (from geemap) (2.3.1)\n",
            "Requirement already satisfied: python-box in /usr/local/lib/python3.11/dist-packages (from geemap) (7.3.2)\n",
            "Requirement already satisfied: scooby in /usr/local/lib/python3.11/dist-packages (from geemap) (0.10.1)\n",
            "Requirement already satisfied: google-cloud-storage in /usr/local/lib/python3.11/dist-packages (from earthengine-api>=1.0.0->geemap) (2.19.0)\n",
            "Requirement already satisfied: google-api-python-client>=1.12.1 in /usr/local/lib/python3.11/dist-packages (from earthengine-api>=1.0.0->geemap) (2.176.0)\n",
            "Requirement already satisfied: google-auth>=1.4.1 in /usr/local/lib/python3.11/dist-packages (from earthengine-api>=1.0.0->geemap) (2.38.0)\n",
            "Requirement already satisfied: google-auth-httplib2>=0.0.3 in /usr/local/lib/python3.11/dist-packages (from earthengine-api>=1.0.0->geemap) (0.2.0)\n",
            "Requirement already satisfied: httplib2<1dev,>=0.9.2 in /usr/local/lib/python3.11/dist-packages (from earthengine-api>=1.0.0->geemap) (0.22.0)\n",
            "Requirement already satisfied: requests in /usr/local/lib/python3.11/dist-packages (from earthengine-api>=1.0.0->geemap) (2.32.3)\n",
            "Requirement already satisfied: branca>=0.6.0 in /usr/local/lib/python3.11/dist-packages (from folium>=0.17.0->geemap) (0.8.1)\n",
            "Requirement already satisfied: jinja2>=2.9 in /usr/local/lib/python3.11/dist-packages (from folium>=0.17.0->geemap) (3.1.6)\n",
            "Requirement already satisfied: xyzservices in /usr/local/lib/python3.11/dist-packages (from folium>=0.17.0->geemap) (2025.4.0)\n",
            "Requirement already satisfied: ipywidgets in /usr/local/lib/python3.11/dist-packages (from ipyfilechooser>=0.6.0->geemap) (7.7.1)\n",
            "Requirement already satisfied: jupyter-leaflet<0.21,>=0.20 in /usr/local/lib/python3.11/dist-packages (from ipyleaflet>=0.19.2->geemap) (0.20.0)\n",
            "Requirement already satisfied: traittypes<3,>=0.2.1 in /usr/local/lib/python3.11/dist-packages (from ipyleaflet>=0.19.2->geemap) (0.2.1)\n",
            "Collecting psygnal>=0.8.1 (from anywidget->geemap)\n",
            "  Downloading psygnal-0.14.0-cp311-cp311-manylinux2014_x86_64.manylinux_2_17_x86_64.manylinux_2_28_x86_64.whl.metadata (6.0 kB)\n",
            "Requirement already satisfied: typing-extensions>=4.2.0 in /usr/local/lib/python3.11/dist-packages (from anywidget->geemap) (4.14.1)\n",
            "Requirement already satisfied: traitlets>=4.3.0 in /usr/local/lib/python3.11/dist-packages (from bqplot->geemap) (5.7.1)\n",
            "Requirement already satisfied: python-dateutil>=2.8.2 in /usr/local/lib/python3.11/dist-packages (from pandas->geemap) (2.9.0.post0)\n",
            "Requirement already satisfied: pytz>=2020.1 in /usr/local/lib/python3.11/dist-packages (from pandas->geemap) (2025.2)\n",
            "Requirement already satisfied: tzdata>=2022.7 in /usr/local/lib/python3.11/dist-packages (from pandas->geemap) (2025.2)\n",
            "Requirement already satisfied: click in /usr/local/lib/python3.11/dist-packages (from geocoder->geemap) (8.2.1)\n",
            "Requirement already satisfied: future in /usr/local/lib/python3.11/dist-packages (from geocoder->geemap) (1.0.0)\n",
            "Requirement already satisfied: ratelim in /usr/local/lib/python3.11/dist-packages (from geocoder->geemap) (0.1.6)\n",
            "Requirement already satisfied: six in /usr/local/lib/python3.11/dist-packages (from geocoder->geemap) (1.17.0)\n",
            "Requirement already satisfied: contourpy>=1.0.1 in /usr/local/lib/python3.11/dist-packages (from matplotlib->geemap) (1.3.2)\n",
            "Requirement already satisfied: cycler>=0.10 in /usr/local/lib/python3.11/dist-packages (from matplotlib->geemap) (0.12.1)\n",
            "Requirement already satisfied: fonttools>=4.22.0 in /usr/local/lib/python3.11/dist-packages (from matplotlib->geemap) (4.59.0)\n",
            "Requirement already satisfied: kiwisolver>=1.3.1 in /usr/local/lib/python3.11/dist-packages (from matplotlib->geemap) (1.4.8)\n",
            "Requirement already satisfied: packaging>=20.0 in /usr/local/lib/python3.11/dist-packages (from matplotlib->geemap) (25.0)\n",
            "Requirement already satisfied: pillow>=8 in /usr/local/lib/python3.11/dist-packages (from matplotlib->geemap) (11.3.0)\n",
            "Requirement already satisfied: pyparsing>=2.3.1 in /usr/local/lib/python3.11/dist-packages (from matplotlib->geemap) (3.2.3)\n",
            "Requirement already satisfied: tenacity>=6.2.0 in /usr/local/lib/python3.11/dist-packages (from plotly->geemap) (8.5.0)\n",
            "Requirement already satisfied: google-api-core!=2.0.*,!=2.1.*,!=2.2.*,!=2.3.0,<3.0.0,>=1.31.5 in /usr/local/lib/python3.11/dist-packages (from google-api-python-client>=1.12.1->earthengine-api>=1.0.0->geemap) (2.25.1)\n",
            "Requirement already satisfied: uritemplate<5,>=3.0.1 in /usr/local/lib/python3.11/dist-packages (from google-api-python-client>=1.12.1->earthengine-api>=1.0.0->geemap) (4.2.0)\n",
            "Requirement already satisfied: cachetools<6.0,>=2.0.0 in /usr/local/lib/python3.11/dist-packages (from google-auth>=1.4.1->earthengine-api>=1.0.0->geemap) (5.5.2)\n",
            "Requirement already satisfied: pyasn1-modules>=0.2.1 in /usr/local/lib/python3.11/dist-packages (from google-auth>=1.4.1->earthengine-api>=1.0.0->geemap) (0.4.2)\n",
            "Requirement already satisfied: rsa<5,>=3.1.4 in /usr/local/lib/python3.11/dist-packages (from google-auth>=1.4.1->earthengine-api>=1.0.0->geemap) (4.9.1)\n",
            "Requirement already satisfied: ipykernel>=4.5.1 in /usr/local/lib/python3.11/dist-packages (from ipywidgets->ipyfilechooser>=0.6.0->geemap) (6.17.1)\n",
            "Requirement already satisfied: ipython-genutils~=0.2.0 in /usr/local/lib/python3.11/dist-packages (from ipywidgets->ipyfilechooser>=0.6.0->geemap) (0.2.0)\n",
            "Requirement already satisfied: widgetsnbextension~=3.6.0 in /usr/local/lib/python3.11/dist-packages (from ipywidgets->ipyfilechooser>=0.6.0->geemap) (3.6.10)\n",
            "Requirement already satisfied: ipython>=4.0.0 in /usr/local/lib/python3.11/dist-packages (from ipywidgets->ipyfilechooser>=0.6.0->geemap) (7.34.0)\n",
            "Requirement already satisfied: jupyterlab-widgets>=1.0.0 in /usr/local/lib/python3.11/dist-packages (from ipywidgets->ipyfilechooser>=0.6.0->geemap) (3.0.15)\n",
            "Requirement already satisfied: MarkupSafe>=2.0 in /usr/local/lib/python3.11/dist-packages (from jinja2>=2.9->folium>=0.17.0->geemap) (3.0.2)\n",
            "Requirement already satisfied: google-cloud-core<3.0dev,>=2.3.0 in /usr/local/lib/python3.11/dist-packages (from google-cloud-storage->earthengine-api>=1.0.0->geemap) (2.4.3)\n",
            "Requirement already satisfied: google-resumable-media>=2.7.2 in /usr/local/lib/python3.11/dist-packages (from google-cloud-storage->earthengine-api>=1.0.0->geemap) (2.7.2)\n",
            "Requirement already satisfied: google-crc32c<2.0dev,>=1.0 in /usr/local/lib/python3.11/dist-packages (from google-cloud-storage->earthengine-api>=1.0.0->geemap) (1.7.1)\n",
            "Requirement already satisfied: charset-normalizer<4,>=2 in /usr/local/lib/python3.11/dist-packages (from requests->earthengine-api>=1.0.0->geemap) (3.4.2)\n",
            "Requirement already satisfied: idna<4,>=2.5 in /usr/local/lib/python3.11/dist-packages (from requests->earthengine-api>=1.0.0->geemap) (3.10)\n",
            "Requirement already satisfied: urllib3<3,>=1.21.1 in /usr/local/lib/python3.11/dist-packages (from requests->earthengine-api>=1.0.0->geemap) (2.5.0)\n",
            "Requirement already satisfied: certifi>=2017.4.17 in /usr/local/lib/python3.11/dist-packages (from requests->earthengine-api>=1.0.0->geemap) (2025.7.14)\n",
            "Requirement already satisfied: decorator in /usr/local/lib/python3.11/dist-packages (from ratelim->geocoder->geemap) (4.4.2)\n",
            "Requirement already satisfied: googleapis-common-protos<2.0.0,>=1.56.2 in /usr/local/lib/python3.11/dist-packages (from google-api-core!=2.0.*,!=2.1.*,!=2.2.*,!=2.3.0,<3.0.0,>=1.31.5->google-api-python-client>=1.12.1->earthengine-api>=1.0.0->geemap) (1.70.0)\n",
            "Requirement already satisfied: protobuf!=3.20.0,!=3.20.1,!=4.21.0,!=4.21.1,!=4.21.2,!=4.21.3,!=4.21.4,!=4.21.5,<7.0.0,>=3.19.5 in /usr/local/lib/python3.11/dist-packages (from google-api-core!=2.0.*,!=2.1.*,!=2.2.*,!=2.3.0,<3.0.0,>=1.31.5->google-api-python-client>=1.12.1->earthengine-api>=1.0.0->geemap) (5.29.5)\n",
            "Requirement already satisfied: proto-plus<2.0.0,>=1.22.3 in /usr/local/lib/python3.11/dist-packages (from google-api-core!=2.0.*,!=2.1.*,!=2.2.*,!=2.3.0,<3.0.0,>=1.31.5->google-api-python-client>=1.12.1->earthengine-api>=1.0.0->geemap) (1.26.1)\n",
            "Requirement already satisfied: debugpy>=1.0 in /usr/local/lib/python3.11/dist-packages (from ipykernel>=4.5.1->ipywidgets->ipyfilechooser>=0.6.0->geemap) (1.8.15)\n",
            "Requirement already satisfied: jupyter-client>=6.1.12 in /usr/local/lib/python3.11/dist-packages (from ipykernel>=4.5.1->ipywidgets->ipyfilechooser>=0.6.0->geemap) (6.1.12)\n",
            "Requirement already satisfied: matplotlib-inline>=0.1 in /usr/local/lib/python3.11/dist-packages (from ipykernel>=4.5.1->ipywidgets->ipyfilechooser>=0.6.0->geemap) (0.1.7)\n",
            "Requirement already satisfied: nest-asyncio in /usr/local/lib/python3.11/dist-packages (from ipykernel>=4.5.1->ipywidgets->ipyfilechooser>=0.6.0->geemap) (1.6.0)\n",
            "Requirement already satisfied: psutil in /usr/local/lib/python3.11/dist-packages (from ipykernel>=4.5.1->ipywidgets->ipyfilechooser>=0.6.0->geemap) (5.9.5)\n",
            "Requirement already satisfied: pyzmq>=17 in /usr/local/lib/python3.11/dist-packages (from ipykernel>=4.5.1->ipywidgets->ipyfilechooser>=0.6.0->geemap) (24.0.1)\n",
            "Requirement already satisfied: tornado>=6.1 in /usr/local/lib/python3.11/dist-packages (from ipykernel>=4.5.1->ipywidgets->ipyfilechooser>=0.6.0->geemap) (6.4.2)\n",
            "Requirement already satisfied: setuptools>=18.5 in /usr/local/lib/python3.11/dist-packages (from ipython>=4.0.0->ipywidgets->ipyfilechooser>=0.6.0->geemap) (75.2.0)\n",
            "Collecting jedi>=0.16 (from ipython>=4.0.0->ipywidgets->ipyfilechooser>=0.6.0->geemap)\n",
            "  Downloading jedi-0.19.2-py2.py3-none-any.whl.metadata (22 kB)\n",
            "Requirement already satisfied: pickleshare in /usr/local/lib/python3.11/dist-packages (from ipython>=4.0.0->ipywidgets->ipyfilechooser>=0.6.0->geemap) (0.7.5)\n",
            "Requirement already satisfied: prompt-toolkit!=3.0.0,!=3.0.1,<3.1.0,>=2.0.0 in /usr/local/lib/python3.11/dist-packages (from ipython>=4.0.0->ipywidgets->ipyfilechooser>=0.6.0->geemap) (3.0.51)\n",
            "Requirement already satisfied: pygments in /usr/local/lib/python3.11/dist-packages (from ipython>=4.0.0->ipywidgets->ipyfilechooser>=0.6.0->geemap) (2.19.2)\n",
            "Requirement already satisfied: backcall in /usr/local/lib/python3.11/dist-packages (from ipython>=4.0.0->ipywidgets->ipyfilechooser>=0.6.0->geemap) (0.2.0)\n",
            "Requirement already satisfied: pexpect>4.3 in /usr/local/lib/python3.11/dist-packages (from ipython>=4.0.0->ipywidgets->ipyfilechooser>=0.6.0->geemap) (4.9.0)\n",
            "Requirement already satisfied: pyasn1<0.7.0,>=0.6.1 in /usr/local/lib/python3.11/dist-packages (from pyasn1-modules>=0.2.1->google-auth>=1.4.1->earthengine-api>=1.0.0->geemap) (0.6.1)\n",
            "Requirement already satisfied: notebook>=4.4.1 in /usr/local/lib/python3.11/dist-packages (from widgetsnbextension~=3.6.0->ipywidgets->ipyfilechooser>=0.6.0->geemap) (6.5.7)\n",
            "Requirement already satisfied: parso<0.9.0,>=0.8.4 in /usr/local/lib/python3.11/dist-packages (from jedi>=0.16->ipython>=4.0.0->ipywidgets->ipyfilechooser>=0.6.0->geemap) (0.8.4)\n",
            "Requirement already satisfied: jupyter-core>=4.6.0 in /usr/local/lib/python3.11/dist-packages (from jupyter-client>=6.1.12->ipykernel>=4.5.1->ipywidgets->ipyfilechooser>=0.6.0->geemap) (5.8.1)\n",
            "Requirement already satisfied: argon2-cffi in /usr/local/lib/python3.11/dist-packages (from notebook>=4.4.1->widgetsnbextension~=3.6.0->ipywidgets->ipyfilechooser>=0.6.0->geemap) (25.1.0)\n",
            "Requirement already satisfied: nbformat in /usr/local/lib/python3.11/dist-packages (from notebook>=4.4.1->widgetsnbextension~=3.6.0->ipywidgets->ipyfilechooser>=0.6.0->geemap) (5.10.4)\n",
            "Requirement already satisfied: nbconvert>=5 in /usr/local/lib/python3.11/dist-packages (from notebook>=4.4.1->widgetsnbextension~=3.6.0->ipywidgets->ipyfilechooser>=0.6.0->geemap) (7.16.6)\n",
            "Requirement already satisfied: Send2Trash>=1.8.0 in /usr/local/lib/python3.11/dist-packages (from notebook>=4.4.1->widgetsnbextension~=3.6.0->ipywidgets->ipyfilechooser>=0.6.0->geemap) (1.8.3)\n",
            "Requirement already satisfied: terminado>=0.8.3 in /usr/local/lib/python3.11/dist-packages (from notebook>=4.4.1->widgetsnbextension~=3.6.0->ipywidgets->ipyfilechooser>=0.6.0->geemap) (0.18.1)\n",
            "Requirement already satisfied: prometheus-client in /usr/local/lib/python3.11/dist-packages (from notebook>=4.4.1->widgetsnbextension~=3.6.0->ipywidgets->ipyfilechooser>=0.6.0->geemap) (0.22.1)\n",
            "Requirement already satisfied: nbclassic>=0.4.7 in /usr/local/lib/python3.11/dist-packages (from notebook>=4.4.1->widgetsnbextension~=3.6.0->ipywidgets->ipyfilechooser>=0.6.0->geemap) (1.3.1)\n",
            "Requirement already satisfied: ptyprocess>=0.5 in /usr/local/lib/python3.11/dist-packages (from pexpect>4.3->ipython>=4.0.0->ipywidgets->ipyfilechooser>=0.6.0->geemap) (0.7.0)\n",
            "Requirement already satisfied: wcwidth in /usr/local/lib/python3.11/dist-packages (from prompt-toolkit!=3.0.0,!=3.0.1,<3.1.0,>=2.0.0->ipython>=4.0.0->ipywidgets->ipyfilechooser>=0.6.0->geemap) (0.2.13)\n",
            "Requirement already satisfied: platformdirs>=2.5 in /usr/local/lib/python3.11/dist-packages (from jupyter-core>=4.6.0->jupyter-client>=6.1.12->ipykernel>=4.5.1->ipywidgets->ipyfilechooser>=0.6.0->geemap) (4.3.8)\n",
            "Requirement already satisfied: notebook-shim>=0.2.3 in /usr/local/lib/python3.11/dist-packages (from nbclassic>=0.4.7->notebook>=4.4.1->widgetsnbextension~=3.6.0->ipywidgets->ipyfilechooser>=0.6.0->geemap) (0.2.4)\n",
            "Requirement already satisfied: beautifulsoup4 in /usr/local/lib/python3.11/dist-packages (from nbconvert>=5->notebook>=4.4.1->widgetsnbextension~=3.6.0->ipywidgets->ipyfilechooser>=0.6.0->geemap) (4.13.4)\n",
            "Requirement already satisfied: bleach!=5.0.0 in /usr/local/lib/python3.11/dist-packages (from bleach[css]!=5.0.0->nbconvert>=5->notebook>=4.4.1->widgetsnbextension~=3.6.0->ipywidgets->ipyfilechooser>=0.6.0->geemap) (6.2.0)\n",
            "Requirement already satisfied: defusedxml in /usr/local/lib/python3.11/dist-packages (from nbconvert>=5->notebook>=4.4.1->widgetsnbextension~=3.6.0->ipywidgets->ipyfilechooser>=0.6.0->geemap) (0.7.1)\n",
            "Requirement already satisfied: jupyterlab-pygments in /usr/local/lib/python3.11/dist-packages (from nbconvert>=5->notebook>=4.4.1->widgetsnbextension~=3.6.0->ipywidgets->ipyfilechooser>=0.6.0->geemap) (0.3.0)\n",
            "Requirement already satisfied: mistune<4,>=2.0.3 in /usr/local/lib/python3.11/dist-packages (from nbconvert>=5->notebook>=4.4.1->widgetsnbextension~=3.6.0->ipywidgets->ipyfilechooser>=0.6.0->geemap) (3.1.3)\n",
            "Requirement already satisfied: nbclient>=0.5.0 in /usr/local/lib/python3.11/dist-packages (from nbconvert>=5->notebook>=4.4.1->widgetsnbextension~=3.6.0->ipywidgets->ipyfilechooser>=0.6.0->geemap) (0.10.2)\n",
            "Requirement already satisfied: pandocfilters>=1.4.1 in /usr/local/lib/python3.11/dist-packages (from nbconvert>=5->notebook>=4.4.1->widgetsnbextension~=3.6.0->ipywidgets->ipyfilechooser>=0.6.0->geemap) (1.5.1)\n",
            "Requirement already satisfied: fastjsonschema>=2.15 in /usr/local/lib/python3.11/dist-packages (from nbformat->notebook>=4.4.1->widgetsnbextension~=3.6.0->ipywidgets->ipyfilechooser>=0.6.0->geemap) (2.21.1)\n",
            "Requirement already satisfied: jsonschema>=2.6 in /usr/local/lib/python3.11/dist-packages (from nbformat->notebook>=4.4.1->widgetsnbextension~=3.6.0->ipywidgets->ipyfilechooser>=0.6.0->geemap) (4.25.0)\n",
            "Requirement already satisfied: argon2-cffi-bindings in /usr/local/lib/python3.11/dist-packages (from argon2-cffi->notebook>=4.4.1->widgetsnbextension~=3.6.0->ipywidgets->ipyfilechooser>=0.6.0->geemap) (21.2.0)\n",
            "Requirement already satisfied: webencodings in /usr/local/lib/python3.11/dist-packages (from bleach!=5.0.0->bleach[css]!=5.0.0->nbconvert>=5->notebook>=4.4.1->widgetsnbextension~=3.6.0->ipywidgets->ipyfilechooser>=0.6.0->geemap) (0.5.1)\n",
            "Requirement already satisfied: tinycss2<1.5,>=1.1.0 in /usr/local/lib/python3.11/dist-packages (from bleach[css]!=5.0.0->nbconvert>=5->notebook>=4.4.1->widgetsnbextension~=3.6.0->ipywidgets->ipyfilechooser>=0.6.0->geemap) (1.4.0)\n",
            "Requirement already satisfied: attrs>=22.2.0 in /usr/local/lib/python3.11/dist-packages (from jsonschema>=2.6->nbformat->notebook>=4.4.1->widgetsnbextension~=3.6.0->ipywidgets->ipyfilechooser>=0.6.0->geemap) (25.3.0)\n",
            "Requirement already satisfied: jsonschema-specifications>=2023.03.6 in /usr/local/lib/python3.11/dist-packages (from jsonschema>=2.6->nbformat->notebook>=4.4.1->widgetsnbextension~=3.6.0->ipywidgets->ipyfilechooser>=0.6.0->geemap) (2025.4.1)\n",
            "Requirement already satisfied: referencing>=0.28.4 in /usr/local/lib/python3.11/dist-packages (from jsonschema>=2.6->nbformat->notebook>=4.4.1->widgetsnbextension~=3.6.0->ipywidgets->ipyfilechooser>=0.6.0->geemap) (0.36.2)\n",
            "Requirement already satisfied: rpds-py>=0.7.1 in /usr/local/lib/python3.11/dist-packages (from jsonschema>=2.6->nbformat->notebook>=4.4.1->widgetsnbextension~=3.6.0->ipywidgets->ipyfilechooser>=0.6.0->geemap) (0.26.0)\n",
            "Requirement already satisfied: jupyter-server<3,>=1.8 in /usr/local/lib/python3.11/dist-packages (from notebook-shim>=0.2.3->nbclassic>=0.4.7->notebook>=4.4.1->widgetsnbextension~=3.6.0->ipywidgets->ipyfilechooser>=0.6.0->geemap) (1.16.0)\n",
            "Requirement already satisfied: cffi>=1.0.1 in /usr/local/lib/python3.11/dist-packages (from argon2-cffi-bindings->argon2-cffi->notebook>=4.4.1->widgetsnbextension~=3.6.0->ipywidgets->ipyfilechooser>=0.6.0->geemap) (1.17.1)\n",
            "Requirement already satisfied: soupsieve>1.2 in /usr/local/lib/python3.11/dist-packages (from beautifulsoup4->nbconvert>=5->notebook>=4.4.1->widgetsnbextension~=3.6.0->ipywidgets->ipyfilechooser>=0.6.0->geemap) (2.7)\n",
            "Requirement already satisfied: pycparser in /usr/local/lib/python3.11/dist-packages (from cffi>=1.0.1->argon2-cffi-bindings->argon2-cffi->notebook>=4.4.1->widgetsnbextension~=3.6.0->ipywidgets->ipyfilechooser>=0.6.0->geemap) (2.22)\n",
            "Requirement already satisfied: anyio>=3.1.0 in /usr/local/lib/python3.11/dist-packages (from jupyter-server<3,>=1.8->notebook-shim>=0.2.3->nbclassic>=0.4.7->notebook>=4.4.1->widgetsnbextension~=3.6.0->ipywidgets->ipyfilechooser>=0.6.0->geemap) (4.9.0)\n",
            "Requirement already satisfied: websocket-client in /usr/local/lib/python3.11/dist-packages (from jupyter-server<3,>=1.8->notebook-shim>=0.2.3->nbclassic>=0.4.7->notebook>=4.4.1->widgetsnbextension~=3.6.0->ipywidgets->ipyfilechooser>=0.6.0->geemap) (1.8.0)\n",
            "Requirement already satisfied: sniffio>=1.1 in /usr/local/lib/python3.11/dist-packages (from anyio>=3.1.0->jupyter-server<3,>=1.8->notebook-shim>=0.2.3->nbclassic>=0.4.7->notebook>=4.4.1->widgetsnbextension~=3.6.0->ipywidgets->ipyfilechooser>=0.6.0->geemap) (1.3.1)\n",
            "Downloading geemap-0.36.0-py3-none-any.whl (631 kB)\n",
            "\u001b[2K   \u001b[90m━━━━━━━━━━━━━━━━━━━━━━━━━━━━━━━━━━━━━━━━\u001b[0m \u001b[32m631.3/631.3 kB\u001b[0m \u001b[31m20.2 MB/s\u001b[0m eta \u001b[36m0:00:00\u001b[0m\n",
            "\u001b[?25hDownloading anywidget-0.9.18-py3-none-any.whl (220 kB)\n",
            "\u001b[2K   \u001b[90m━━━━━━━━━━━━━━━━━━━━━━━━━━━━━━━━━━━━━━━━\u001b[0m \u001b[32m220.7/220.7 kB\u001b[0m \u001b[31m17.5 MB/s\u001b[0m eta \u001b[36m0:00:00\u001b[0m\n",
            "\u001b[?25hDownloading psygnal-0.14.0-cp311-cp311-manylinux2014_x86_64.manylinux_2_17_x86_64.manylinux_2_28_x86_64.whl (837 kB)\n",
            "\u001b[2K   \u001b[90m━━━━━━━━━━━━━━━━━━━━━━━━━━━━━━━━━━━━━━━━\u001b[0m \u001b[32m837.4/837.4 kB\u001b[0m \u001b[31m38.5 MB/s\u001b[0m eta \u001b[36m0:00:00\u001b[0m\n",
            "\u001b[?25hDownloading jedi-0.19.2-py2.py3-none-any.whl (1.6 MB)\n",
            "\u001b[2K   \u001b[90m━━━━━━━━━━━━━━━━━━━━━━━━━━━━━━━━━━━━━━━━\u001b[0m \u001b[32m1.6/1.6 MB\u001b[0m \u001b[31m59.6 MB/s\u001b[0m eta \u001b[36m0:00:00\u001b[0m\n",
            "\u001b[?25hInstalling collected packages: psygnal, jedi, anywidget, geemap\n",
            "  Attempting uninstall: geemap\n",
            "    Found existing installation: geemap 0.35.3\n",
            "    Uninstalling geemap-0.35.3:\n",
            "      Successfully uninstalled geemap-0.35.3\n",
            "Successfully installed anywidget-0.9.18 geemap-0.36.0 jedi-0.19.2 psygnal-0.14.0\n"
          ]
        }
      ]
    },
    {
      "cell_type": "code",
      "source": [
        "#  Libraries\n",
        "import ee\n",
        "import geemap\n",
        "import pandas as pd\n",
        "import geopandas as gpd\n",
        "import ast\n",
        "import json"
      ],
      "metadata": {
        "id": "2FWQFN2XqmRw"
      },
      "execution_count": null,
      "outputs": []
    },
    {
      "cell_type": "code",
      "source": [
        "# Authenticate Earth Engine\n",
        "ee.Authenticate()\n",
        "ee.Initialize(project='ee-bbahmanabadi')"
      ],
      "metadata": {
        "colab": {
          "base_uri": "https://localhost:8080/",
          "height": 17
        },
        "id": "KP63jOdSqomn",
        "outputId": "d49876a5-41b0-484f-b1e5-7080364e3c11"
      },
      "execution_count": null,
      "outputs": [
        {
          "output_type": "display_data",
          "data": {
            "text/plain": [
              "<IPython.core.display.HTML object>"
            ],
            "text/html": [
              "\n",
              "            <style>\n",
              "                .geemap-dark {\n",
              "                    --jp-widgets-color: white;\n",
              "                    --jp-widgets-label-color: white;\n",
              "                    --jp-ui-font-color1: white;\n",
              "                    --jp-layout-color2: #454545;\n",
              "                    background-color: #383838;\n",
              "                }\n",
              "\n",
              "                .geemap-dark .jupyter-button {\n",
              "                    --jp-layout-color3: #383838;\n",
              "                }\n",
              "\n",
              "                .geemap-colab {\n",
              "                    background-color: var(--colab-primary-surface-color, white);\n",
              "                }\n",
              "\n",
              "                .geemap-colab .jupyter-button {\n",
              "                    --jp-layout-color3: var(--colab-primary-surface-color, white);\n",
              "                }\n",
              "            </style>\n",
              "            "
            ]
          },
          "metadata": {}
        }
      ]
    },
    {
      "cell_type": "code",
      "source": [
        "shapefile_path_cities = \"/content/drive/MyDrive/maroon_Basin_cities_Shahrestan.shp\"\n",
        "gdf_cities = gpd.read_file(shapefile_path_cities).to_crs(\"EPSG:4326\")\n",
        "cities_geojson = json.loads(gdf_cities.to_json())\n",
        "cities_fc = geemap.geojson_to_ee(cities_geojson)"
      ],
      "metadata": {
        "colab": {
          "base_uri": "https://localhost:8080/",
          "height": 17
        },
        "id": "hopaYEldqrfo",
        "outputId": "47ee8d7b-ce43-4dc5-e2cb-0bc919bfcb74"
      },
      "execution_count": null,
      "outputs": [
        {
          "output_type": "display_data",
          "data": {
            "text/plain": [
              "<IPython.core.display.HTML object>"
            ],
            "text/html": [
              "\n",
              "            <style>\n",
              "                .geemap-dark {\n",
              "                    --jp-widgets-color: white;\n",
              "                    --jp-widgets-label-color: white;\n",
              "                    --jp-ui-font-color1: white;\n",
              "                    --jp-layout-color2: #454545;\n",
              "                    background-color: #383838;\n",
              "                }\n",
              "\n",
              "                .geemap-dark .jupyter-button {\n",
              "                    --jp-layout-color3: #383838;\n",
              "                }\n",
              "\n",
              "                .geemap-colab {\n",
              "                    background-color: var(--colab-primary-surface-color, white);\n",
              "                }\n",
              "\n",
              "                .geemap-colab .jupyter-button {\n",
              "                    --jp-layout-color3: var(--colab-primary-surface-color, white);\n",
              "                }\n",
              "            </style>\n",
              "            "
            ]
          },
          "metadata": {}
        }
      ]
    },
    {
      "cell_type": "code",
      "source": [
        "shapefile_path_rivers = \"/content/drive/MyDrive/khuzestan/Water-ways-Maroon.shp\"\n",
        "gdf_rivers = gpd.read_file(shapefile_path_rivers).to_crs(\"EPSG:4326\")\n",
        "rivers_geojson = json.loads(gdf_rivers.to_json())\n",
        "rivers_fc = geemap.geojson_to_ee(rivers_geojson)"
      ],
      "metadata": {
        "colab": {
          "base_uri": "https://localhost:8080/",
          "height": 17
        },
        "id": "W7s5Sj4CqtL4",
        "outputId": "2b553467-ed65-40d0-d4b0-2cc60e69b53b"
      },
      "execution_count": null,
      "outputs": [
        {
          "output_type": "display_data",
          "data": {
            "text/plain": [
              "<IPython.core.display.HTML object>"
            ],
            "text/html": [
              "\n",
              "            <style>\n",
              "                .geemap-dark {\n",
              "                    --jp-widgets-color: white;\n",
              "                    --jp-widgets-label-color: white;\n",
              "                    --jp-ui-font-color1: white;\n",
              "                    --jp-layout-color2: #454545;\n",
              "                    background-color: #383838;\n",
              "                }\n",
              "\n",
              "                .geemap-dark .jupyter-button {\n",
              "                    --jp-layout-color3: #383838;\n",
              "                }\n",
              "\n",
              "                .geemap-colab {\n",
              "                    background-color: var(--colab-primary-surface-color, white);\n",
              "                }\n",
              "\n",
              "                .geemap-colab .jupyter-button {\n",
              "                    --jp-layout-color3: var(--colab-primary-surface-color, white);\n",
              "                }\n",
              "            </style>\n",
              "            "
            ]
          },
          "metadata": {}
        }
      ]
    },
    {
      "cell_type": "code",
      "source": [
        "def load_csv_as_features(path):\n",
        "    df = pd.read_csv(path)\n",
        "    df.columns = df.columns.str.lower()\n",
        "    df['.geo'] = df['.geo'].apply(ast.literal_eval)\n",
        "    df['longitude'] = df['.geo'].apply(lambda x: x['coordinates'][0])\n",
        "    df['latitude'] = df['.geo'].apply(lambda x: x['coordinates'][1])\n",
        "    return [ee.Feature(ee.Geometry.Point([row['longitude'], row['latitude']]), {'class': int(row['class'])}) for _, row in df.iterrows()]\n",
        "\n",
        "csv_paths = {\n",
        "    'wheat': '/content/drive/MyDrive/wheat_export.csv',\n",
        "    'alfalfa': '/content/drive/MyDrive/Alfalfa_export.csv',\n",
        "    'canola': '/content/drive/MyDrive/canola_export.csv',\n",
        "    'bean': '/content/drive/MyDrive/Bean_export.csv',\n",
        "    'dates': '/content/drive/MyDrive/Dates_export.csv',\n",
        "    'soil': '/content/drive/MyDrive/soil_export.csv',\n",
        "    'waterboundary': '/content/drive/MyDrive/WaterBoundary_export.csv'\n",
        "}\n",
        "\n",
        "all_features = []\n",
        "for name, path in csv_paths.items():\n",
        "    all_features.extend(load_csv_as_features(path))\n",
        "training_fc = ee.FeatureCollection(all_features)"
      ],
      "metadata": {
        "colab": {
          "base_uri": "https://localhost:8080/",
          "height": 17
        },
        "id": "eNg_7tNOqu6g",
        "outputId": "71b402d5-675d-4a7b-837c-550baa6ca584"
      },
      "execution_count": null,
      "outputs": [
        {
          "output_type": "display_data",
          "data": {
            "text/plain": [
              "<IPython.core.display.HTML object>"
            ],
            "text/html": [
              "\n",
              "            <style>\n",
              "                .geemap-dark {\n",
              "                    --jp-widgets-color: white;\n",
              "                    --jp-widgets-label-color: white;\n",
              "                    --jp-ui-font-color1: white;\n",
              "                    --jp-layout-color2: #454545;\n",
              "                    background-color: #383838;\n",
              "                }\n",
              "\n",
              "                .geemap-dark .jupyter-button {\n",
              "                    --jp-layout-color3: #383838;\n",
              "                }\n",
              "\n",
              "                .geemap-colab {\n",
              "                    background-color: var(--colab-primary-surface-color, white);\n",
              "                }\n",
              "\n",
              "                .geemap-colab .jupyter-button {\n",
              "                    --jp-layout-color3: var(--colab-primary-surface-color, white);\n",
              "                }\n",
              "            </style>\n",
              "            "
            ]
          },
          "metadata": {}
        }
      ]
    },
    {
      "cell_type": "code",
      "source": [
        "# Load Sentinel-2\n",
        "s2 = ee.ImageCollection(\"COPERNICUS/S2_SR_HARMONIZED\")\\\n",
        "    .filterBounds(cities_fc)\\\n",
        "    .filterDate(\"2023-03-01\", \"2023-03-31\")\\\n",
        "    .filter(ee.Filter.lt(\"CLOUDY_PIXEL_PERCENTAGE\", 10))\\\n",
        "    .median().clip(cities_fc)\n",
        "\n",
        "def add_indices(image):\n",
        "    ndvi = image.normalizedDifference(['B8', 'B4']).rename('NDVI')\n",
        "    gndvi = image.normalizedDifference(['B8', 'B3']).rename('GNDVI')\n",
        "    evi = image.expression('2.5*((NIR-RED)/(NIR+6*RED-7.5*BLUE+1))', {\n",
        "        'NIR': image.select('B8'), 'RED': image.select('B4'), 'BLUE': image.select('B2')}).rename('EVI')\n",
        "    savi = image.expression('((NIR-RED)/(NIR+RED+0.5))*1.5', {\n",
        "        'NIR': image.select('B8'), 'RED': image.select('B4')}).rename('SAVI')\n",
        "    wwi = image.expression('(B8 - B11)/(B8 + B11)', {'B8': image.select('B8'), 'B11': image.select('B11')}).rename('WWI')\n",
        "    lai = image.expression('3.618 * NDVI - 0.118', {'NDVI': ndvi}).rename('LAI')\n",
        "    s2rep = image.expression('705 + 35 * ((RE1 + RE3)/2 - RE2) / ((RE1 - RE2)+1e-10)', {\n",
        "        'RE1': image.select('B5'), 'RE2': image.select('B6'), 'RE3': image.select('B7')}).rename('S2REP')\n",
        "    wdvi = image.expression('NIR - 1.0 * RED', {'NIR': image.select('B8'), 'RED': image.select('B4')}).rename('WDVI')\n",
        "    mtci = image.expression('(B6 - B5) / ((B5 - B4)+1e-10)', {\n",
        "        'B6': image.select('B6'), 'B5': image.select('B5'), 'B4': image.select('B4')}).rename('MTCI')\n",
        "    gcc = image.expression('G / (R + G + B + 1e-10)', {\n",
        "        'R': image.select('B4'), 'G': image.select('B3'), 'B': image.select('B2')}).rename('GCC')\n",
        "    rendvi = image.normalizedDifference(['B8', 'B5']).rename('RENDVI')\n",
        "    rvi = image.expression('NIR / (RED + 1e-10)', {'NIR': image.select('B8'), 'RED': image.select('B4')}).rename('RVI')\n",
        "    ndre = image.normalizedDifference(['B8', 'B5']).rename('NDRE')\n",
        "    lswi = image.normalizedDifference(['B8', 'B11']).rename('LSWI')\n",
        "\n",
        "    return image.addBands([ndvi, gndvi, evi, savi, wwi, lai, s2rep,\n",
        "                           wdvi, mtci, gcc, rendvi, rvi, ndre, lswi])\n",
        "\n",
        "image_with_indices = add_indices(s2)"
      ],
      "metadata": {
        "colab": {
          "base_uri": "https://localhost:8080/",
          "height": 17
        },
        "id": "XAUgeksFq0e4",
        "outputId": "7f7b945b-9f8d-4d01-8ab0-70fe1ef7d52b"
      },
      "execution_count": null,
      "outputs": [
        {
          "output_type": "display_data",
          "data": {
            "text/plain": [
              "<IPython.core.display.HTML object>"
            ],
            "text/html": [
              "\n",
              "            <style>\n",
              "                .geemap-dark {\n",
              "                    --jp-widgets-color: white;\n",
              "                    --jp-widgets-label-color: white;\n",
              "                    --jp-ui-font-color1: white;\n",
              "                    --jp-layout-color2: #454545;\n",
              "                    background-color: #383838;\n",
              "                }\n",
              "\n",
              "                .geemap-dark .jupyter-button {\n",
              "                    --jp-layout-color3: #383838;\n",
              "                }\n",
              "\n",
              "                .geemap-colab {\n",
              "                    background-color: var(--colab-primary-surface-color, white);\n",
              "                }\n",
              "\n",
              "                .geemap-colab .jupyter-button {\n",
              "                    --jp-layout-color3: var(--colab-primary-surface-color, white);\n",
              "                }\n",
              "            </style>\n",
              "            "
            ]
          },
          "metadata": {}
        }
      ]
    },
    {
      "cell_type": "code",
      "source": [
        "# Sentinel-1\n",
        "s1 = ee.ImageCollection(\"COPERNICUS/S1_GRD\")\\\n",
        "    .filterBounds(cities_fc)\\\n",
        "    .filterDate(\"2023-03-01\", \"2023-03-31\")\\\n",
        "    .filter(ee.Filter.listContains('transmitterReceiverPolarisation', 'VV'))\\\n",
        "    .filter(ee.Filter.listContains('transmitterReceiverPolarisation', 'VH'))\\\n",
        "    .filter(ee.Filter.eq('orbitProperties_pass', 'DESCENDING'))\\\n",
        "    .mean().clip(cities_fc)\n",
        "vv = s1.select('VV').rename('VV')\n",
        "vh = s1.select('VH').rename('VH')\n",
        "vv_vh_ratio = vv.divide(vh).rename('VV_VH_Ratio')\n",
        "\n",
        "combined_image = image_with_indices.addBands([vv, vh, vv_vh_ratio])\n",
        "\n",
        "bands = ['B2', 'B3', 'B4', 'B5', 'B6', 'B7', 'B8', 'B11', 'NDVI', 'GNDVI', 'EVI', 'SAVI', 'WWI', 'LAI',\n",
        "         'S2REP', 'WDVI', 'MTCI', 'GCC', 'RENDVI', 'RVI', 'NDRE', '' 'VV', 'VH', 'VV_VH_Ratio']"
      ],
      "metadata": {
        "colab": {
          "base_uri": "https://localhost:8080/",
          "height": 17
        },
        "id": "WeNrqoISq2Za",
        "outputId": "bb2e0baf-ba02-4ae9-f76c-eb5b266ae82d"
      },
      "execution_count": null,
      "outputs": [
        {
          "output_type": "display_data",
          "data": {
            "text/plain": [
              "<IPython.core.display.HTML object>"
            ],
            "text/html": [
              "\n",
              "            <style>\n",
              "                .geemap-dark {\n",
              "                    --jp-widgets-color: white;\n",
              "                    --jp-widgets-label-color: white;\n",
              "                    --jp-ui-font-color1: white;\n",
              "                    --jp-layout-color2: #454545;\n",
              "                    background-color: #383838;\n",
              "                }\n",
              "\n",
              "                .geemap-dark .jupyter-button {\n",
              "                    --jp-layout-color3: #383838;\n",
              "                }\n",
              "\n",
              "                .geemap-colab {\n",
              "                    background-color: var(--colab-primary-surface-color, white);\n",
              "                }\n",
              "\n",
              "                .geemap-colab .jupyter-button {\n",
              "                    --jp-layout-color3: var(--colab-primary-surface-color, white);\n",
              "                }\n",
              "            </style>\n",
              "            "
            ]
          },
          "metadata": {}
        }
      ]
    },
    {
      "cell_type": "code",
      "source": [
        "training = combined_image.select(bands).sampleRegions(collection=training_fc, properties=['class'], scale=10)\n",
        "training = training.randomColumn('random', seed=100)\n",
        "training_split = training.filter(ee.Filter.lt('random', 0.7))\n",
        "testing_split = training.filter(ee.Filter.gte('random', 0.7))\n",
        "\n",
        "classifier = ee.Classifier.smileRandomForest(100).train(features=training_split, classProperty='class', inputProperties=bands)\n",
        "classified = combined_image.select(bands).classify(classifier)\n",
        "wheat_mask = classified.eq(0)"
      ],
      "metadata": {
        "colab": {
          "base_uri": "https://localhost:8080/",
          "height": 17
        },
        "id": "_WKXFlDgq52H",
        "outputId": "1dbdcdb5-abb7-4c75-a635-0d360b20ecc0"
      },
      "execution_count": null,
      "outputs": [
        {
          "output_type": "display_data",
          "data": {
            "text/plain": [
              "<IPython.core.display.HTML object>"
            ],
            "text/html": [
              "\n",
              "            <style>\n",
              "                .geemap-dark {\n",
              "                    --jp-widgets-color: white;\n",
              "                    --jp-widgets-label-color: white;\n",
              "                    --jp-ui-font-color1: white;\n",
              "                    --jp-layout-color2: #454545;\n",
              "                    background-color: #383838;\n",
              "                }\n",
              "\n",
              "                .geemap-dark .jupyter-button {\n",
              "                    --jp-layout-color3: #383838;\n",
              "                }\n",
              "\n",
              "                .geemap-colab {\n",
              "                    background-color: var(--colab-primary-surface-color, white);\n",
              "                }\n",
              "\n",
              "                .geemap-colab .jupyter-button {\n",
              "                    --jp-layout-color3: var(--colab-primary-surface-color, white);\n",
              "                }\n",
              "            </style>\n",
              "            "
            ]
          },
          "metadata": {}
        }
      ]
    },
    {
      "cell_type": "code",
      "source": [
        "# LULC Layers\n",
        "# LGRIP30: 1 = irrigated, 2 = rainfed\n",
        "lgrip = ee.ImageCollection(\"projects/sat-io/open-datasets/GFSAD/LGRIP30\").mosaic()\n",
        "gfsad_irrigated = lgrip.eq(1)\n",
        "gfsad_rainfed = lgrip.eq(2)\n",
        "\n",
        "# Dynamic World: crop probability > 0.5\n",
        "dw_prob = ee.ImageCollection(\"GOOGLE/DYNAMICWORLD/V1\")\\\n",
        "    .filterDate(\"2023-03-01\", \"2023-03-31\")\\\n",
        "    .select('crops').mean()\n",
        "dw_crops = dw_prob.gt(0.5)\n",
        "\n",
        "# ESA WorldCover: 40 = cropland, 50 = built-up, 60 = bare/sparse\n",
        "esa = ee.Image(\"ESA/WorldCover/v100/2020\").select('Map')\n",
        "esa_crops = esa.eq(40)\n",
        "non_crop_mask = esa.eq(50).Or(esa.eq(60)).Or(esa.eq(80))  # built-up, bare, water\n",
        "\n",
        "# NDVI Filter (vegetation greenness)\n",
        "ndvi = combined_image.select('NDVI')\n",
        "veg_mask = ndvi.gt(0.4)\n",
        "\n",
        "# Fusion logic\n",
        "fusion_irrigated_sources = gfsad_irrigated.add(esa_crops).add(dw_crops).add(veg_mask)\n",
        "fused_irrigated = wheat_mask.And(fusion_irrigated_sources.gte(2)).And(non_crop_mask.Not())\n",
        "\n",
        "rainfed_score = gfsad_rainfed.add(esa_crops.Not()).add(dw_crops.Not()).add(ndvi.gt(0.3))\n",
        "fused_rainfed = wheat_mask.And(rainfed_score.gte(2)).And(fused_irrigated.Not())\n"
      ],
      "metadata": {
        "colab": {
          "base_uri": "https://localhost:8080/",
          "height": 17
        },
        "id": "PlO318ncq8MP",
        "outputId": "4b1707d7-9ec6-4eaf-edd3-85d39b17f010"
      },
      "execution_count": null,
      "outputs": [
        {
          "output_type": "display_data",
          "data": {
            "text/plain": [
              "<IPython.core.display.HTML object>"
            ],
            "text/html": [
              "\n",
              "            <style>\n",
              "                .geemap-dark {\n",
              "                    --jp-widgets-color: white;\n",
              "                    --jp-widgets-label-color: white;\n",
              "                    --jp-ui-font-color1: white;\n",
              "                    --jp-layout-color2: #454545;\n",
              "                    background-color: #383838;\n",
              "                }\n",
              "\n",
              "                .geemap-dark .jupyter-button {\n",
              "                    --jp-layout-color3: #383838;\n",
              "                }\n",
              "\n",
              "                .geemap-colab {\n",
              "                    background-color: var(--colab-primary-surface-color, white);\n",
              "                }\n",
              "\n",
              "                .geemap-colab .jupyter-button {\n",
              "                    --jp-layout-color3: var(--colab-primary-surface-color, white);\n",
              "                }\n",
              "            </style>\n",
              "            "
            ]
          },
          "metadata": {}
        }
      ]
    },
    {
      "cell_type": "code",
      "source": [
        "# Compute Area\n",
        "def compute_area(mask):\n",
        "    area_img = mask.multiply(ee.Image.pixelArea()).rename('area')\n",
        "    stats = area_img.reduceRegion(\n",
        "        reducer=ee.Reducer.sum(),\n",
        "        geometry=cities_fc.geometry(),\n",
        "        scale=30,\n",
        "        maxPixels=1e13\n",
        "    )\n",
        "    return ee.Number(stats.get('area')).divide(10000)\n",
        "\n",
        "print(\"Irrigated Wheat Area (ha):\", compute_area(fused_irrigated).getInfo())\n",
        "print(\" Rainfed Wheat Area (ha):\", compute_area(fused_rainfed).getInfo())"
      ],
      "metadata": {
        "colab": {
          "base_uri": "https://localhost:8080/",
          "height": 52
        },
        "id": "uCQ_Tya0q_hJ",
        "outputId": "834b1c4f-d18c-4120-f6df-206a6d367304"
      },
      "execution_count": null,
      "outputs": [
        {
          "output_type": "display_data",
          "data": {
            "text/plain": [
              "<IPython.core.display.HTML object>"
            ],
            "text/html": [
              "\n",
              "            <style>\n",
              "                .geemap-dark {\n",
              "                    --jp-widgets-color: white;\n",
              "                    --jp-widgets-label-color: white;\n",
              "                    --jp-ui-font-color1: white;\n",
              "                    --jp-layout-color2: #454545;\n",
              "                    background-color: #383838;\n",
              "                }\n",
              "\n",
              "                .geemap-dark .jupyter-button {\n",
              "                    --jp-layout-color3: #383838;\n",
              "                }\n",
              "\n",
              "                .geemap-colab {\n",
              "                    background-color: var(--colab-primary-surface-color, white);\n",
              "                }\n",
              "\n",
              "                .geemap-colab .jupyter-button {\n",
              "                    --jp-layout-color3: var(--colab-primary-surface-color, white);\n",
              "                }\n",
              "            </style>\n",
              "            "
            ]
          },
          "metadata": {}
        },
        {
          "output_type": "stream",
          "name": "stdout",
          "text": [
            "Irrigated Wheat Area (ha): 85893.09167342649\n",
            " Rainfed Wheat Area (ha): 13770.222261583107\n"
          ]
        }
      ]
    },
    {
      "cell_type": "code",
      "source": [
        "'''\n",
        "# ------------------ Step 9: Area Per City ------------------\n",
        "def area_per_city(mask, fc):\n",
        "    area_img = mask.multiply(ee.Image.pixelArea()).rename('area')\n",
        "\n",
        "    def compute(f):\n",
        "        area = area_img.reduceRegion(\n",
        "            reducer=ee.Reducer.sum(),\n",
        "            geometry=f.geometry(),\n",
        "            scale=10,\n",
        "            maxPixels=1e13\n",
        "        ).get('area')\n",
        "        return f.set('area_ha', ee.Number(area).divide(10000))\n",
        "\n",
        "    return fc.map(compute)\n",
        "\n",
        "rainfed_per_city = area_per_city(fused_rainfed, cities_fc)\n",
        "irrigated_per_city = area_per_city(fused_irrigated, cities_fc)\n",
        "\n",
        "rainfed_gdf = gpd.GeoDataFrame.from_features(geemap.ee_to_geojson(rainfed_per_city))\n",
        "irrigated_gdf = gpd.GeoDataFrame.from_features(geemap.ee_to_geojson(irrigated_per_city))\n",
        "\n",
        "print(\"\\U0001F33E Rainfed Wheat Area per City (ha):\")\n",
        "print(rainfed_gdf[['SHAHRESTAN', 'area_ha']])\n",
        "\n",
        "print(\"\\U0001F4A7 Irrigated Wheat Area per City (ha):\")\n",
        "print(irrigated_gdf[['SHAHRESTAN', 'area_ha']])\n",
        "'''"
      ],
      "metadata": {
        "id": "5PIbRLCnsJu3"
      },
      "execution_count": null,
      "outputs": []
    },
    {
      "cell_type": "code",
      "source": [
        "# Visualizing\n",
        "Map = geemap.Map()\n",
        "Map.centerObject(cities_fc, 10)\n",
        "\n",
        "Map.addLayer(s2, {'bands': ['B4', 'B3', 'B2'], 'min': 0, 'max': 3000}, 'Sentinel-2 RGB')\n",
        "Map.addLayer(fused_irrigated.selfMask(),{'palette': ['#00BFFF']}, 'Irrigated Wheat')\n",
        "Map.addLayer(fused_rainfed.selfMask(), {'palette': ['#FFA500']}, 'Rainfed Wheat')\n",
        "Map.addLayer(cities_fc.style(color='black', fillColor='00000000', width=2), {}, 'Basin Boundary')\n",
        "\n",
        "# Add Labels\n",
        "label_gdf_cities = gdf_cities.copy()\n",
        "label_gdf_cities['geometry'] = label_gdf_cities.centroid\n",
        "label_gdf_cities['x'] = label_gdf_cities.geometry.x\n",
        "label_gdf_cities['y'] = label_gdf_cities.geometry.y\n",
        "\n",
        "Map.add_labels(label_gdf_cities, column='SHAHRESTAN', font_size='12pt', text_color='black', font_weight='bold', x='x', y='y')\n",
        "\n",
        "label_gdf_rivers = gdf_rivers.copy()\n",
        "label_gdf_rivers = label_gdf_rivers[label_gdf_rivers['name'].notna()].drop_duplicates(subset='name')\n",
        "label_gdf_rivers['geometry'] = label_gdf_rivers.centroid\n",
        "label_gdf_rivers['x'] = label_gdf_rivers.geometry.x\n",
        "label_gdf_rivers['y'] = label_gdf_rivers.geometry.y\n",
        "\n",
        "Map.add_labels(label_gdf_rivers, column='name', font_size='8pt', text_color='blue', font_weight='bold', x='x', y='y')\n",
        "Map.addLayer(rivers_fc.style(color='blue', width=2), {}, 'River Paths')\n",
        "\n",
        "Map.add_legend(title=\"Wheat Type\", labels=[\"Irrigated\", \"Rainfed\"], colors=[\"#00BFFF\", \"#FFA500\"])\n",
        "Map.addLayerControl()\n",
        "Map\n"
      ],
      "metadata": {
        "colab": {
          "base_uri": "https://localhost:8080/",
          "height": 621,
          "referenced_widgets": [
            "209b85b27b7c436d86d799c856beb14f",
            "dfd8c02468d54aaf863cc980bb56eb01",
            "3c1452d83c324d1aaffe2defd9c917da",
            "650142bc3dd0437f89ffb9f3c98f1ee7",
            "7b2e2c438e1747639aaffecf08c83418",
            "6ff7c80969e64c05acbe80567bea3aee",
            "f14d21422a3b453badcd70e19df1f53b",
            "db802d4664904c4d9ed044a259201682",
            "df5f264552d44dafbdb6cb4fa9c62c15",
            "a6ea014840a0480588bc5f437ca5eec6",
            "4e9e5dde07f146749337a879010e7e35",
            "967c2540e53e45d4b50aad911eae14d0",
            "16b9120e7a8a4fe4904eeba0650ac2c9",
            "f5e1e7652c974d918d04b6d2e5faaada",
            "4f22338c6a1d40ac9a123b6d34d78e49",
            "d882953e74c5471b9090b8a3fd70986e",
            "cb3190154d77452bb7ba4be6da46b809",
            "59afef22e6424f1bbd548806abda2cb3",
            "edcb3f917de24e2da609f0611f53295b",
            "be88809527ab4e3cabb293ae94ea671a",
            "82419fe13dee4465938bfefaa53d0303",
            "6ad7baffabb74197809dd4174fa0175b",
            "709e0d1705be495b88bf5e68c3e6bb6d",
            "2b6b243554854931a016a940343d6abb",
            "15a914e33107408a870d215bb0a9499f",
            "62a6a655f6dd4cfcaeafede990fced73",
            "60c37e3f32d5419888f645ba054642b2",
            "d80e225bc2c84ebe8017093e6a37e70a",
            "6ffc32d9df294f958402eb0cd4f2391d",
            "14a5174e69fe414abeed1b9a5f8c5324",
            "14757deb91724235a8c9237f6895a3ec",
            "fea95bedfe6048feb9cc0df551d46095",
            "f3ed67ed78334c0193b6560964df4e9e",
            "961a2d00d2ad4f69bc3637ebeb0956d6",
            "03b1cfeffd1c4d968b11a1a85d0dca48",
            "454621442d7448249a1780ed133a0eb8",
            "0a37d96b9b9243f59105273651ef6986",
            "4a507948638e4454bb9a1920e6335e58",
            "c413db583bb94027a5575dffd0e0ef51",
            "9f4da0788aa14da8bc4bc8cdc8b94c8f",
            "8995f6a429c24c0cafc0b2b8959175ac",
            "d6405225c8a549e6a93f4c814d1198bf",
            "84e0819650b44744a96c6acac7163965",
            "fae01c95348f4bb0b180b3b70c388798",
            "7e0c8dfd35d74e689bdcb2cc33e8853b",
            "301f05bd573642b1bc04ffa7a4f89cea",
            "071c55d3e3c1469e8ebe51eb7ff7e4d8",
            "99660b4135ca4993b0a03757c65ba8f7",
            "84c5c420207d4a47b07356fd02d08250",
            "95e63ca48ce340c7a8ded7e274e311f3",
            "3c369c09e3e846c8953544fb4ca7cd33",
            "45d3be81bd1147ecbe5d975ba2f8780e",
            "c906701ec38a4c36bd75f54b86cce739",
            "ea34db35efd44d84a6f36da72e14b685",
            "f193284fdec14b76b805d1e87e28693a",
            "41c179eee3f143c9868531b9f3c8b64e",
            "f7da12ba716a4ee78b6d6fe72dfcffc6",
            "7ceb65a891dd4fa9984154f968680dd0",
            "1870701ab2b14a41bf32d08386ebb0dd",
            "9c3670d4d7c74551898d964d99f1b3f9",
            "102c1405cba44095af0ca66608a00a95",
            "f282f9ac4051410d8156802ef8e7a3c7",
            "20f0d84561ec47b8937cce7ce0b3ccad",
            "4cd56d4807aa46bfb86db31eeb251895",
            "2338443b74364bea89a25bab0dcb9a36",
            "bb2d982958fa4c0aa116042e745f67f4",
            "721a7cd4cd5a4bd69a5f0b899f7786a2",
            "f6e82c1aba1f4f9ca10c627bd0201534",
            "bf7afb1adbf848fba4c631fcd5d90ca1",
            "37ae36db1431400ea87b56b96a50442f",
            "89283e7e5b224b61883b673276b92201",
            "83d69a9b25d84750b90248d46fe35e3f",
            "6c186a3c14a94c58951178d1f63a33dd",
            "973c305d261f462e8b459cad6f983f65",
            "e9fc0205f7d645519feabf4ab515b9ea",
            "5fbabe796ad54d6a8c1b889ebe3bcb33",
            "1436516c3ada4801bf2d57e39f68a3ab",
            "cfcb3690ed534bafb8620ea2c70f6b35",
            "8c5cb8ad613b45db9bbc99f1e6da6d03",
            "6d363895df754e299eaac61f5c09c593",
            "daf8610886664812a3c9003fb9b7dd9d",
            "82ed6509b2ec42e3bcf4669591905935",
            "2c7e444c81814b9d86dbcc8e4fa6cd93",
            "e485ed75e62d44c3a26fb02cead52bc4",
            "5ef091ecaed646ffbce63f83f4824a4d",
            "2f5a23f1dc774320bd6676f6dd007ddd",
            "44b46a12185d4817920d12ba7b2e7f13",
            "2fe18c3029284b5dbf364b42dec19cf8",
            "69f105e0181b4175ae002149f7c691a3",
            "284b29a905fa458fb2e8361667f7a00d",
            "5760e8b2b1b34b2589210b323f87ee6e",
            "61062c5211c742a7bba082bf30e4f60b",
            "7577dc8dbafa4cc3a3717535fd173f33",
            "e9c336518ff445cca3d8d6ca1d05bd57",
            "46f9845b3b42418f8a39b55e619a4ecb",
            "c89baf3be866464e85362972a94d14c3",
            "6a00e05b665c4cd29d20c510ad786d19",
            "07bf8464e055441ca730f84e18ed3efa",
            "37b6d816d0724aa19dbf1024bc11e895",
            "82ae29764e7c4466b682a935704af397",
            "fe696d0e512247f0a6bcb26fb32e2649",
            "9f42a540a17f412098fd50c8f989bcf4",
            "123011b38e4249158f868c5cd9083f78",
            "4371f5f44ebd4ef0bd97e9e103e6fbd9",
            "b901a3544ccf4d9eb45c24583ade6cf7",
            "f574aad42e1a4e828ae61bc386d529f7",
            "ba482da64f2b41e182d2fe86f9dd8b64",
            "5802dcaf18e047a18270995a65265275",
            "1c72e2b0bcf243fd9e4e9bf76620a73a",
            "b03f00e3a7cd4b00b73cb80d85b383ab",
            "3e061525d96940c9ad32c2714c9d5069",
            "b66787b53c9643e89299e13938883bc5",
            "9f60587e9a324e9ab17a981481de3290",
            "43f24946aef04a37acef1fe559e28ff5",
            "a7856f046292492d9d19beb3e587706b",
            "55f191c89b354407992d8a1fca386c7c",
            "3c118c35143e4a9cb925febe02fa6a02",
            "62533d6851e24e0191ca5af4348e0cb3",
            "ed9ae03820f14466a4427668f93d5812",
            "8180d54bd55c4aeea4848b7944ec6819",
            "7dbc42e974554ee899170833214e37fc",
            "c7b05647ede44992ab0cae98f3c87b8f",
            "141d19cbdd7c48b5b1aa390a4ae3ad02",
            "ef1ff531dda74de796d73045b48c804b",
            "235620a60a0e42fc907b437b84f4dcf9",
            "4ca19f1dad8e45a1a4628d49b6dc7324",
            "2bbc171a4a4749d1a3c4d7e0fa736c2e",
            "6c5ff9dff3194d5cbc194b7bfe599ea2",
            "ae82f8fe1aa9443db5d71598fac53a12",
            "74e14fb4d1dd4039812893f9110e9b54",
            "36693e4bde0c498a87fc0f76cb8e51e3",
            "6e77b33662f948899721f051ba2bdc14",
            "22384dbf3a0c480481e2b24c39b9226e",
            "03bafa35384a4c31806e481af7f63427",
            "238e2055cb824b808ef24ff4776a950b",
            "7514f59fdd81474ebbd6ddd1c0201c11",
            "667b946a916843139857893a0c9ec187",
            "6f7196c492884ee6bf0fa5171dd487c5",
            "5534eebbecaa45329f5f5691a4565b41",
            "5509fd7704ea4455bc0c97a6a17a221c",
            "5880c97cb1f243c68bde3c3f1deb7932",
            "e6ac705891bc4cd9938301e57e687484",
            "66f3cc7e2211443dac603680bae7a782",
            "49d63d30b776492a9f77f0a1d31d6842",
            "573b9fb512d94d00819f07bc2366c116",
            "b60c98607b0149e08feef16d3e307446",
            "822697b2c9504577aee89edd2b99f2eb",
            "ebcbc6b890bb4f40a6db23bb45ded716",
            "b393bd1a581a45499e090569471a497f",
            "3c1f013da06947dd8afc42f61e7506f0",
            "77d27f5b953e4721aa6c27e2331fbed4",
            "b669a5d3c8b0485aa24e68687d05f6b7",
            "1b80e4d06bc1445a8964c62c721c9099",
            "612f7aafa51b414980744c3c8c8807ff",
            "ec6ba0d4e6ce4237afdaeb14b50073e0",
            "72143a39d7b84afb826783628d4a6242",
            "14dfe8c7b1d644f39d39579bab5980e0",
            "f443780387c34e54971ac600be4a3995",
            "00316555efc34d388a288f0a4eebfe12",
            "6f1806c3a424471096930096df2351a1",
            "360a9edd3c10428daa0394f25eec2613",
            "556d96b7a9dd4da4a8ec8ab80883d9ff",
            "af0f656b99fa45c288acb0bf730e2bb8",
            "7c291e572b47492c87d2213d6a5252ce",
            "9a80e9fc87dd46e1845a888c0a48f819",
            "e257a23fd5d34e00b4d508d20ea0d15b",
            "4f6e361c0b6f4781b2aa8cd3feab229e",
            "24da1bc50f414137a0c9fcc3f5872200",
            "fe61e80bbb934153a3be3e4e7897846c",
            "efad39f097ac4c48819e5529897d5248",
            "a5cd6c329cf749429520898af9eeaec7",
            "b10f0a647b604c3f8c9f52d5757744bb",
            "93d6fcbcdc20421698b1757b1e139fd3",
            "5204bd1c3e4942a2b949a4410c36ef0c",
            "ba2c4f3ebc944eb2ba0f403f79e4d84a",
            "d5d3789502d74d3490dd1faf2ffb5cdb",
            "6b770a03e9844e849b6c108d8aed708b",
            "0bbab73953f4474ca8114024909a6f6b",
            "43ebae3313b64a289af1e227752ce0c1",
            "7b06bf7c7df14fa09ab35e96345584e8",
            "e405f05b73934080af6694a32843ec4e",
            "9265da2e5027432f85bbdcf4c87060cf",
            "1b690e33ca944a33af130252f5e48d96",
            "96d60a737a5a48cea9c271e1d3fb1db3",
            "0f2724965fe34ddc94dd3f727d0252b3",
            "4d0e2c81b0844a2baff765924d337f8d",
            "e5f59d70194b486fa74560c41ec18600",
            "f92b7b438be946cebf6b789a3b3e8923",
            "67eadfbad67d4878aaf02f3ca563cbd2",
            "5423dda76d2d4994982fe0d8f2a972c1",
            "3aa64b90ac7442708c98859e9344a1a2",
            "77ad997b8fd84c978cd9a00991c2815e",
            "140454ad964b45ebbe289e33ee690085",
            "7952d0e3bbe44fc4abaa71bcfc8ac801",
            "3ff8be6d8dc447a09e90711348f5ddf5",
            "3cfa6ac78f3647d1bc7bdd7018769f39",
            "8d8736ebead343b1ad52045bca0b5ecb",
            "1c57f2482dcb4cfaad6d886b11871ead",
            "68be8420048e478a81f604f2ad7fb643",
            "ddcfa98090c54af7ad0856eb67df1def",
            "59b88a4be8d845d8a19c936a1070e9c2",
            "1f6abb1f1a9844b3a674cbd7cdf1a1bb",
            "e785cfca6232470c8f5186ede7caaa00",
            "b646a3f5d4884038ba47f157217d1858",
            "e901bbef3b9f45608b24a973e9ac80f8",
            "ce2a75b3c0ba43ad93b860ed90201dbd",
            "5cea819f110544a48d58dd5ef8ef48ed",
            "483f825892f546259e04453a33e98c79",
            "868600e3852a40a9b563313d8ceba052",
            "65b9b87afed84c8ba034291d3fd767a7",
            "face755e4c87414d94b71ba700927efc",
            "701b9c933a284beb98e2739f876560ae",
            "ec1171fd18c0421b9b9469b893d5d831",
            "518a67063a784d11a400e21f926a143b",
            "259152cb03564eb3925861a431224bea",
            "6885834d73cc47a489fc00099e344b4a",
            "a20471a165d84572b182516c7be9bb1d",
            "558e4038da654562aea6e6b5466168f9",
            "2f40e4c06c23431598d872befe468b86",
            "1611c6ca8a8543d88bf5d50e081b1c9e",
            "d3343e19c07f4ed584117daaa7cfc867",
            "8310207b9ca04151a4e6139d3bed1f3e",
            "8b412556dc554d08a6c2d6c7662efbe5"
          ]
        },
        "id": "zGse5gdosQgI",
        "outputId": "2bcc4749-fa35-44a4-bbb7-b2f0cfd484e6"
      },
      "execution_count": null,
      "outputs": [
        {
          "output_type": "display_data",
          "data": {
            "text/plain": [
              "<IPython.core.display.HTML object>"
            ],
            "text/html": [
              "\n",
              "            <style>\n",
              "                .geemap-dark {\n",
              "                    --jp-widgets-color: white;\n",
              "                    --jp-widgets-label-color: white;\n",
              "                    --jp-ui-font-color1: white;\n",
              "                    --jp-layout-color2: #454545;\n",
              "                    background-color: #383838;\n",
              "                }\n",
              "\n",
              "                .geemap-dark .jupyter-button {\n",
              "                    --jp-layout-color3: #383838;\n",
              "                }\n",
              "\n",
              "                .geemap-colab {\n",
              "                    background-color: var(--colab-primary-surface-color, white);\n",
              "                }\n",
              "\n",
              "                .geemap-colab .jupyter-button {\n",
              "                    --jp-layout-color3: var(--colab-primary-surface-color, white);\n",
              "                }\n",
              "            </style>\n",
              "            "
            ]
          },
          "metadata": {}
        },
        {
          "output_type": "display_data",
          "data": {
            "text/plain": [
              "Map(center=[30.89932091766724, 49.49589754354096], controls=(WidgetControl(options=['position', 'transparent_b…"
            ],
            "application/vnd.jupyter.widget-view+json": {
              "version_major": 2,
              "version_minor": 0,
              "model_id": "209b85b27b7c436d86d799c856beb14f"
            }
          },
          "metadata": {
            "application/vnd.jupyter.widget-view+json": {
              "colab": {
                "custom_widget_manager": {
                  "url": "https://ssl.gstatic.com/colaboratory-static/widgets/colab-cdn-widget-manager/2b70e893a8ba7c0f/manager.min.js"
                }
              }
            }
          }
        }
      ]
    }
  ]
}